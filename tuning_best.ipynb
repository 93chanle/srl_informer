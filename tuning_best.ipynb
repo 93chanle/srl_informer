{
 "cells": [
  {
   "cell_type": "code",
   "execution_count": 6,
   "metadata": {},
   "outputs": [],
   "source": [
    "import torch\n",
    "import torch.nn as nn\n",
    "import torch.nn.functional as F\n",
    "import os\n",
    "import numpy as np\n",
    "import pandas as pd\n",
    "\n",
    "from exp.exp_informer import Exp_Informer\n",
    "import matplotlib.pyplot as plt\n",
    "\n",
    "from utils.masking import TriangularCausalMask, ProbMask\n",
    "from models.encoder import Encoder, EncoderLayer, ConvLayer, EncoderStack\n",
    "from models.decoder import Decoder, DecoderLayer\n",
    "from models.attn import FullAttention, ProbAttention, AttentionLayer\n",
    "from models.embed import DataEmbedding, PositionalEmbedding, TokenEmbedding, FixedEmbedding, TemporalEmbedding, TimeFeatureEmbedding\n",
    "\n",
    "from torch.utils.data import Dataset, DataLoader\n",
    "from sklearn.preprocessing import StandardScaler\n",
    "\n",
    "from utils.tools import StandardScaler\n",
    "from utils.timefeatures import time_features\n",
    "\n",
    "from data.data_loader import Dataset_ETT_hour, Dataset_ETT_minute, Dataset_Custom, Dataset_Pred\n",
    "from exp.exp_basic import Exp_Basic\n",
    "from models.model import Informer, InformerStack\n",
    "\n",
    "from utils.tools import EarlyStopping, adjust_learning_rate\n",
    "from utils.metrics import metric\n",
    "\n",
    "from scipy.special import softmax\n",
    "import torch\n",
    "import pandas as pd\n",
    "import numpy as np\n",
    "import math\n",
    "\n",
    "from ray import tune, air\n",
    "from ray.tune import ResultGrid\n",
    "\n",
    "# Additional packages\n",
    "# Create dataset\n",
    "df_raw = pd.read_csv('data/processed/SRL/SRL_NEG_00_04.csv')\n",
    "\n",
    "train =  Dataset_Custom('data/processed/SRL/', freq= 'd', data_path='SRL_NEG_00_04.csv', target='capacity_price')\n",
    "test =  Dataset_Custom('data/processed/SRL/', freq= 'd', data_path='SRL_NEG_00_04.csv', target='capacity_price',flag='test')\n",
    "vali =  Dataset_Custom('data/processed/SRL/', freq= 'd', data_path='SRL_NEG_00_04.csv', target='capacity_price', flag='val')"
   ]
  },
  {
   "cell_type": "code",
   "execution_count": 16,
   "metadata": {},
   "outputs": [
    {
     "name": "stdout",
     "output_type": "stream",
     "text": [
      "Loading results from ray_tune/tune_SRL_POS_00_04_01-03-2023_08-28-06/...\n"
     ]
    },
    {
     "data": {
      "text/plain": [
       "{'revenue': 396.62,\n",
       " 'loss': 0.02333561,\n",
       " 'time_this_iter_s': 50.07645034790039,\n",
       " 'should_checkpoint': True,\n",
       " 'done': True,\n",
       " 'timesteps_total': None,\n",
       " 'episodes_total': None,\n",
       " 'training_iteration': 1,\n",
       " 'trial_id': '39ea3bb6',\n",
       " 'experiment_id': '6d05c8329495477db2fecfadc749eb63',\n",
       " 'date': '2023-03-01_08-37-08',\n",
       " 'timestamp': 1677656228,\n",
       " 'time_total_s': 50.07645034790039,\n",
       " 'pid': 7744,\n",
       " 'hostname': 'azwewpcdml-1',\n",
       " 'node_ip': '127.0.0.1',\n",
       " 'config': {'learning_rate': 0.0009247988557174399,\n",
       "  'train_epochs': 9,\n",
       "  'alpha': 1.2,\n",
       "  'seq_len': 112,\n",
       "  'label_seq_len_ratio': 0.5,\n",
       "  'batch_size': 16},\n",
       " 'time_since_restore': 50.07645034790039,\n",
       " 'timesteps_since_restore': 0,\n",
       " 'iterations_since_restore': 1,\n",
       " 'warmup_time': 0.0,\n",
       " 'experiment_tag': '38_alpha=1.2000,batch_size=16,label_seq_len_ratio=0.5000,learning_rate=0.0009,seq_len=112,train_epochs=9'}"
      ]
     },
     "execution_count": 16,
     "metadata": {},
     "output_type": "execute_result"
    }
   ],
   "source": [
    "experiment_path = f\"ray_tune/tune_SRL_POS_00_04_01-03-2023_08-28-06/\"\n",
    "print(f\"Loading results from {experiment_path}...\")\n",
    "\n",
    "restored_tuner = tune.Tuner.restore(experiment_path)\n",
    "result_grid = restored_tuner.get_results()\n",
    "\n",
    "best = result_grid.get_best_result(metric='revenue', mode='max')\n",
    "# best.config\n",
    "best.metrics"
   ]
  },
  {
   "cell_type": "code",
   "execution_count": 4,
   "metadata": {},
   "outputs": [
    {
     "data": {
      "text/plain": [
       "Result(metrics={'revenue': 579.33, 'loss': 0.13410503, 'should_checkpoint': True, 'done': True, 'trial_id': '9c96a32e', 'experiment_tag': '16_alpha=5.7000,learning_rate=0.0082,pred_seq_len_ratio=0.5000,seq_len=98,train_epochs=13'}, error=None, log_dir=WindowsPath('c:/codes/srl_informer/ray_tune/tune_SRL_NEG_00_04_28-02-2023_08-11-40/trainable_9c96a32e_16_alpha=5.7000,learning_rate=0.0082,pred_seq_len_ratio=0.5000,seq_len=98,train_epochs=13_2023-02-28_08-14-02'))"
      ]
     },
     "execution_count": 4,
     "metadata": {},
     "output_type": "execute_result"
    }
   ],
   "source": [
    "best"
   ]
  },
  {
   "cell_type": "code",
   "execution_count": 23,
   "metadata": {},
   "outputs": [
    {
     "ename": "PermissionError",
     "evalue": "[Errno 13] Permission denied: 'c:\\\\codes\\\\srl_informer\\\\ray_tune\\\\tune_SRL_NEG_00_04_24-02-2023_06-56-42\\\\trainable_b81eb0f3_3_alpha=9.0000,learning_rate=0.0014,seq_len=56,train_epochs=6_2023-02-24_06-57-14\\\\checkpoint_000000'",
     "output_type": "error",
     "traceback": [
      "\u001b[1;31m---------------------------------------------------------------------------\u001b[0m",
      "\u001b[1;31mPermissionError\u001b[0m                           Traceback (most recent call last)",
      "Cell \u001b[1;32mIn[23], line 1\u001b[0m\n\u001b[1;32m----> 1\u001b[0m torch\u001b[39m.\u001b[39;49mload(best\u001b[39m.\u001b[39;49mcheckpoint\u001b[39m.\u001b[39;49m_local_path)\n",
      "File \u001b[1;32mc:\\Users\\CLE\\AppData\\Local\\miniforge3\\envs\\thesis\\lib\\site-packages\\torch\\serialization.py:771\u001b[0m, in \u001b[0;36mload\u001b[1;34m(f, map_location, pickle_module, weights_only, **pickle_load_args)\u001b[0m\n\u001b[0;32m    768\u001b[0m \u001b[39mif\u001b[39;00m \u001b[39m'\u001b[39m\u001b[39mencoding\u001b[39m\u001b[39m'\u001b[39m \u001b[39mnot\u001b[39;00m \u001b[39min\u001b[39;00m pickle_load_args\u001b[39m.\u001b[39mkeys():\n\u001b[0;32m    769\u001b[0m     pickle_load_args[\u001b[39m'\u001b[39m\u001b[39mencoding\u001b[39m\u001b[39m'\u001b[39m] \u001b[39m=\u001b[39m \u001b[39m'\u001b[39m\u001b[39mutf-8\u001b[39m\u001b[39m'\u001b[39m\n\u001b[1;32m--> 771\u001b[0m \u001b[39mwith\u001b[39;00m _open_file_like(f, \u001b[39m'\u001b[39;49m\u001b[39mrb\u001b[39;49m\u001b[39m'\u001b[39;49m) \u001b[39mas\u001b[39;00m opened_file:\n\u001b[0;32m    772\u001b[0m     \u001b[39mif\u001b[39;00m _is_zipfile(opened_file):\n\u001b[0;32m    773\u001b[0m         \u001b[39m# The zipfile reader is going to advance the current file position.\u001b[39;00m\n\u001b[0;32m    774\u001b[0m         \u001b[39m# If we want to actually tail call to torch.jit.load, we need to\u001b[39;00m\n\u001b[0;32m    775\u001b[0m         \u001b[39m# reset back to the original position.\u001b[39;00m\n\u001b[0;32m    776\u001b[0m         orig_position \u001b[39m=\u001b[39m opened_file\u001b[39m.\u001b[39mtell()\n",
      "File \u001b[1;32mc:\\Users\\CLE\\AppData\\Local\\miniforge3\\envs\\thesis\\lib\\site-packages\\torch\\serialization.py:270\u001b[0m, in \u001b[0;36m_open_file_like\u001b[1;34m(name_or_buffer, mode)\u001b[0m\n\u001b[0;32m    268\u001b[0m \u001b[39mdef\u001b[39;00m \u001b[39m_open_file_like\u001b[39m(name_or_buffer, mode):\n\u001b[0;32m    269\u001b[0m     \u001b[39mif\u001b[39;00m _is_path(name_or_buffer):\n\u001b[1;32m--> 270\u001b[0m         \u001b[39mreturn\u001b[39;00m _open_file(name_or_buffer, mode)\n\u001b[0;32m    271\u001b[0m     \u001b[39melse\u001b[39;00m:\n\u001b[0;32m    272\u001b[0m         \u001b[39mif\u001b[39;00m \u001b[39m'\u001b[39m\u001b[39mw\u001b[39m\u001b[39m'\u001b[39m \u001b[39min\u001b[39;00m mode:\n",
      "File \u001b[1;32mc:\\Users\\CLE\\AppData\\Local\\miniforge3\\envs\\thesis\\lib\\site-packages\\torch\\serialization.py:251\u001b[0m, in \u001b[0;36m_open_file.__init__\u001b[1;34m(self, name, mode)\u001b[0m\n\u001b[0;32m    250\u001b[0m \u001b[39mdef\u001b[39;00m \u001b[39m__init__\u001b[39m(\u001b[39mself\u001b[39m, name, mode):\n\u001b[1;32m--> 251\u001b[0m     \u001b[39msuper\u001b[39m(_open_file, \u001b[39mself\u001b[39m)\u001b[39m.\u001b[39m\u001b[39m__init__\u001b[39m(\u001b[39mopen\u001b[39;49m(name, mode))\n",
      "\u001b[1;31mPermissionError\u001b[0m: [Errno 13] Permission denied: 'c:\\\\codes\\\\srl_informer\\\\ray_tune\\\\tune_SRL_NEG_00_04_24-02-2023_06-56-42\\\\trainable_b81eb0f3_3_alpha=9.0000,learning_rate=0.0014,seq_len=56,train_epochs=6_2023-02-24_06-57-14\\\\checkpoint_000000'"
     ]
    }
   ],
   "source": [
    "torch.load(best.checkpoint._local_path)"
   ]
  },
  {
   "cell_type": "code",
   "execution_count": 22,
   "metadata": {},
   "outputs": [
    {
     "data": {
      "text/plain": [
       "'c:\\\\codes\\\\srl_informer\\\\ray_tune\\\\tune_SRL_NEG_00_04_24-02-2023_06-56-42\\\\trainable_b81eb0f3_3_alpha=9.0000,learning_rate=0.0014,seq_len=56,train_epochs=6_2023-02-24_06-57-14\\\\checkpoint_000000'"
      ]
     },
     "execution_count": 22,
     "metadata": {},
     "output_type": "execute_result"
    }
   ],
   "source": []
  }
 ],
 "metadata": {
  "kernelspec": {
   "display_name": "thesis",
   "language": "python",
   "name": "python3"
  },
  "language_info": {
   "codemirror_mode": {
    "name": "ipython",
    "version": 3
   },
   "file_extension": ".py",
   "mimetype": "text/x-python",
   "name": "python",
   "nbconvert_exporter": "python",
   "pygments_lexer": "ipython3",
   "version": "3.10.8"
  },
  "orig_nbformat": 4
 },
 "nbformat": 4,
 "nbformat_minor": 2
}
