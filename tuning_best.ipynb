{
 "cells": [
  {
   "cell_type": "code",
   "execution_count": 1,
   "metadata": {},
   "outputs": [],
   "source": [
    "import torch\n",
    "import torch.nn as nn\n",
    "import torch.nn.functional as F\n",
    "import os\n",
    "import numpy as np\n",
    "import pandas as pd\n",
    "\n",
    "from exp.exp_informer import Exp_Informer\n",
    "import matplotlib.pyplot as plt\n",
    "\n",
    "from utils.masking import TriangularCausalMask, ProbMask\n",
    "from models.encoder import Encoder, EncoderLayer, ConvLayer, EncoderStack\n",
    "from models.decoder import Decoder, DecoderLayer\n",
    "from models.attn import FullAttention, ProbAttention, AttentionLayer\n",
    "from models.embed import DataEmbedding, PositionalEmbedding, TokenEmbedding, FixedEmbedding, TemporalEmbedding, TimeFeatureEmbedding\n",
    "\n",
    "from torch.utils.data import Dataset, DataLoader\n",
    "from sklearn.preprocessing import StandardScaler\n",
    "\n",
    "from utils.tools import StandardScaler\n",
    "from utils.timefeatures import time_features\n",
    "\n",
    "from data.data_loader import Dataset_ETT_hour, Dataset_ETT_minute, Dataset_Custom, Dataset_Pred\n",
    "from exp.exp_basic import Exp_Basic\n",
    "from models.model import Informer, InformerStack\n",
    "\n",
    "from utils.tools import EarlyStopping, adjust_learning_rate\n",
    "from utils.metrics import metric\n",
    "\n",
    "from scipy.special import softmax\n",
    "import torch\n",
    "import pandas as pd\n",
    "import numpy as np\n",
    "import math\n",
    "\n",
    "from ray import tune, air\n",
    "from ray.tune import ResultGrid\n",
    "from ray.tune.trainable import \n",
    "\n",
    "# Additional packages\n",
    "# Create dataset\n",
    "df_raw = pd.read_csv('data/processed/SRL/SRL_NEG_00_04.csv')\n",
    "\n",
    "train =  Dataset_Custom('data/processed/SRL/', freq= 'd', data_path='SRL_NEG_00_04.csv', target='capacity_price')\n",
    "test =  Dataset_Custom('data/processed/SRL/', freq= 'd', data_path='SRL_NEG_00_04.csv', target='capacity_price',flag='test')\n",
    "vali =  Dataset_Custom('data/processed/SRL/', freq= 'd', data_path='SRL_NEG_00_04.csv', target='capacity_price', flag='val')"
   ]
  },
  {
   "cell_type": "code",
   "execution_count": 2,
   "metadata": {},
   "outputs": [
    {
     "name": "stdout",
     "output_type": "stream",
     "text": [
      "Loading results from ray_tune/tune_SRL_NEG_00_04_24-02-2023_06-56-42/...\n"
     ]
    }
   ],
   "source": [
    "experiment_path = f\"ray_tune/tune_SRL_NEG_00_04_24-02-2023_06-56-42/\"\n",
    "print(f\"Loading results from {experiment_path}...\")\n",
    "\n",
    "restored_tuner = tune.Tuner.restore(experiment_path)\n",
    "result_grid = restored_tuner.get_results()\n",
    "\n",
    "best = result_grid.get_best_result(metric='loss', mode='min')\n",
    "cpoint = best.checkpoint\n",
    "a = best.checkpoint.to_dict()"
   ]
  },
  {
   "cell_type": "code",
   "execution_count": 22,
   "metadata": {},
   "outputs": [
    {
     "data": {
      "text/plain": [
       "1069"
      ]
     },
     "execution_count": 22,
     "metadata": {},
     "output_type": "execute_result"
    }
   ],
   "source": [
    "np.random.randint(10000)"
   ]
  }
 ],
 "metadata": {
  "kernelspec": {
   "display_name": "thesis",
   "language": "python",
   "name": "python3"
  },
  "language_info": {
   "codemirror_mode": {
    "name": "ipython",
    "version": 3
   },
   "file_extension": ".py",
   "mimetype": "text/x-python",
   "name": "python",
   "nbconvert_exporter": "python",
   "pygments_lexer": "ipython3",
   "version": "3.10.8"
  },
  "orig_nbformat": 4,
  "vscode": {
   "interpreter": {
    "hash": "e9e7beab718b6b65867de768912246b44f1c03b7199373f20834e0391d060dcb"
   }
  }
 },
 "nbformat": 4,
 "nbformat_minor": 2
}
